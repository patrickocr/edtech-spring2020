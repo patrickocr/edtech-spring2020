{
  "cells": [
    {
      "metadata": {
        "trusted": true
      },
      "cell_type": "code",
      "source": "#macro 1\nprint(\"Career Satisfaction Pathfinder\")\n\ndef career_happy():\n    \n    happy = str(input(\"Are you happy in your career? (Yes or No) \")).lower()\n    if happy == \"yes\":\n        print(\"Great. You're finished\")\n    elif happy == \"no\":\n        time = str(input(\"Have you been unhappy for more than 3 months? (Yes or No) \")).lower()\n        if time == \"yes\":\n            idea = str(input(\"Do you have a clear idea of your next move? (Yes or No) \")).lower()\n            if idea == \"yes\":\n                training = str(input(\"Is new training necessary? (Yes or No) \")).lower()\n                if training == \"yes\":\n                    money_problem = str(input(\"Is financing the training problematic? (Yes or No) \" )).lower()\n                    if money_problem == \"yes\":\n                        print(\"Consider a bank loan or income sharing agreement\")\n                    elif money_problem == \"no\":\n                        print(\"Do the training, then start job hunting\")\n                elif training == \"no\":\n                    print(\"Start looking for a new job now\")\n                #else:\n                    #loop for correct input \n            elif idea == \"no\":\n                interest = str(input(\"Does computer science interest you? (Yes or No) \")).lower()\n                if interest == \"yes\":\n                    print(\"Consider CS career pathfinder\")\n                elif interest == \"no\":\n                    print(\"Consider fields other than computer science\")\n        elif time == \"no\":\n            print(\"Come back once 3 months have passed\")     \n    #else:\n    #loop\n        \ncareer_happy()",
      "execution_count": 39,
      "outputs": [
        {
          "output_type": "stream",
          "text": "Career Satisfaction Pathfinder\nAre you happy in your career? (Yes or No) yes\nGreat. You're finished\n",
          "name": "stdout"
        }
      ]
    },
    {
      "metadata": {
        "trusted": true
      },
      "cell_type": "code",
      "source": "#macro 2\nprint(\"What kind of career do you want?\")\n      \ndef career_kind():\n\n    applied_theory = str(input(\"Do you prefer applied over theoretical problems? (Yes or No) \")).lower() \n    if applied_theory == \"yes\":\n        solo_team = str(input(\"Do you prefer working solo over teams? (Yes or No) \")).lower()\n        if solo_team == \"yes\":\n            print(\"Consider freelancing\")\n        elif solo_team == \"no\":\n            print(\"Join a company\")                  \n    elif applied_theory == \"no\":\n        education = str(input(\"Do you have a MS or PhD in STEM/CS? (Yes or No) \")).lower()\n        if education == \"yes\":\n            values = str(input(\"Do you value $ over freedom? (Yes or No) \")).lower()\n            if values == \"yes\":\n                print(\"Join industry\")\n            elif values == \"no\":\n                print(\"Join academia\")\n        elif education == \"no\":\n            print(\"Got to grad school\")     \n    #else:\n      #loop\n\ncareer_kind()",
      "execution_count": 40,
      "outputs": [
        {
          "output_type": "stream",
          "text": "What kind of career do you want?\nDo you prefer applied over theoretical problems? (Yes or No) no\nDo you have a MS or PhD in STEM/CS? (Yes or No) no\nGot to grad school\n",
          "name": "stdout"
        }
      ]
    },
    {
      "metadata": {
        "trusted": true
      },
      "cell_type": "code",
      "source": "#micro 1\nprint(\"What type of CS role are you interested in?\") \n\ndef job_type():\n    \n    coding = str(input(\"Do you like maths and coding? (Yes or No) \")).lower()\n    if coding == \"yes\": \n        coding_or_data = str(input(\"Do you prefer data over coding? (Yes or No) \")).lower()    \n        if coding_or_data == \"yes\":\n            print(\"Consider data science\")\n        elif coding_or_data == \"no\":\n            systems_or_ux = str(input(\"Do you prefer systems over UX? (Yes or No) \")).lower()\n            if systems_or_ux == \"yes\":\n                backend_or_cyber = str(input(\"Do you like security? (Yes or No) \")).lower()\n                if backend_or_cyber == \"yes\":\n                    print(\"Consider cyber security\")\n                else:\n                    print(\"Consider back end development\")\n            elif systems_or_ux == \"no\":\n                print(\"Consider front end development\")\n            # loop\n    elif coding == \"no\":\n        design = str(input(\"Do you like design? (Yes or No) \")).lower()\n        if design == \"yes\":\n            research = str(input(\"Do you like research? (Yes or No) \")).lower()\n            if research == \"yes\":\n                print(\"Consider UX Research\")\n            elif research == \"no\":\n                print(\"Consider UX Designer\")                                  \n        elif design == \"no\":\n            mgt = str(input(\"Do you like management? (Yes or No) \")).lower()\n            if mgt == \"yes\":\n                print(\"Consider management\")\n            elif mgt == \"no\":\n                print(\"Reconsider your options\")       \n    else:\n        print(\"Incorrect, please try again\")\n    ## loop failure conditions add in\n\njob_type()",
      "execution_count": 41,
      "outputs": [
        {
          "output_type": "stream",
          "text": "What type of CS role are you interested in?\nDo you like maths and coding? (Yes or No) no\nDo you like design? (Yes or No) no\nDo you like management? (Yes or No) no\nReconsider your options\n",
          "name": "stdout"
        }
      ]
    },
    {
      "metadata": {
        "trusted": true
      },
      "cell_type": "code",
      "source": "#micro 2\nprint(\"What tech role are you prepared for?\")\ndef prepared_for():\n    \n    education=str(input(\"Do you have a MS/PhD STEM degree? (Yes or No) \")).lower()\n    \n    if education == \"yes\":\n        enjoy = str(input(\"Do you enjoy research? (Yes or No) \")).lower()\n        if enjoy == \"yes\":\n            print(\"Consider research labs/academia\")\n        elif enjoy == \"no\":\n            mastery = str(input(\"Have you mastered data structures & algorithms? (Yes or No) \")).lower()\n            if mastery == \"no\":\n                print(\"Get more practise\")\n            elif mastery == \"yes\":\n                experience = str(input(\"Do you have more than 3 years expereince? (Yes or No) \")).lower()\n                if experience == \"yes\":\n                    print(\"Consider senior software engineering roles\")\n                elif experience == \"no\":\n                    print(\"Consider junior software engineering roles\")\n                #else:\n                #loop\n\n    elif education == \"no\":\n        moocs = str(input(\"Have you only completed MOOC's? (Yes or No) \")).lower()\n        if moocs == \"yes\":\n            print(\"Get more training\")\n        elif moocs == \"no\":\n            portfolio = str(input(\"Have you developed a portfolio? (Yes or No) \")).lower()\n            if portfolio == \"yes\":\n                print(\"Consider junior roles\")\n            elif portfolio == \"no\":\n                print(\"Get more training or build a portfolio\")\n        #else:\n        #loop\n                \nprepared_for()",
      "execution_count": 50,
      "outputs": [
        {
          "output_type": "stream",
          "text": "What tech role are you prepared for?\nDo you have a MS/PhD STEM degree? (Yes or No) yes\nDo you enjoy research? (Yes or No) no\nHave you mastered data structures & algorithms? (Yes or No) yes\nDo you have more than 3 years expereince? (Yes or No) yes\nConsider senior software engineering roles\n",
          "name": "stdout"
        }
      ]
    },
    {
      "metadata": {
        "trusted": true
      },
      "cell_type": "code",
      "source": "#micro 3\nprint(\"Should you take the job offer?\")\ndef accept_role():\n\n    passion = str(input(\"Does the work interest you? (Yes or No) \")).lower()\n    if passion == \"no\":\n        need_money = str(input(\"Do you need the money? (Yes or No) \")).lower()\n        if need_money == \"yes\":\n            print(\"Take the job\")\n        elif need_money == \"no\":\n            print(\"Keep looking\")\n    elif passion == \"yes\":\n        resume = str(input(\"Will the role enhance my resume? (Yes or No) \")).lower()\n        if resume == \"no\":\n            need_money = str(input(\"Do you need the money? (Yes or No) \")).lower()\n            if need_money == \"yes\":\n                print(\"Take the job\")\n            elif need_money == \"no\":\n                print(\"Keep looking\")\n        elif resume == \"yes\":\n            skills = str(input(\"Will the role use or grow my skills? (Yes or No) \")).lower()\n            if skills == \"no\":\n                need_money = str(input(\"Do you need the money? (Yes or No) \")).lower()\n                if need_money == \"yes\":\n                    print(\"Take the job\")\n                elif need_money == \"no\":\n                    print(\"Keep looking\")\n            elif skills == \"yes\":\n                compensation = str(input(\"is the financial package attractive? (Yes or No) \")).lower()\n                if compensation == \"no\":\n                    need_money = str(input(\"Do you need the money? (Yes or No) \")).lower()\n                    if need_money == \"yes\":\n                        print(\"Take the job\")\n                    elif need_money == \"no\":\n                        print(\"Keep looking\")\n                elif compensation == \"yes\":   \n                    people = str(input(\"Do you like the people? (Yes or No) \" )).lower()\n                    if people == \"no\":\n                        need_money = str(input(\"Do you need the money? (Yes or No) \")).lower()\n                        if need_money == \"yes\":\n                            print(\"Take the job\")\n                        elif need_money == \"no\":\n                            print(\"Keep looking\")\n                    elif people == \"yes\":\n                        commute = str(input(\"Is the commute manageable? (Yes or No) \")).lower()\n                        if commute == \"no\":\n                            need_money = str(input(\"Do you need the money? (Yes or No) \")).lower()\n                            if need_money == \"yes\":\n                                print(\"Take the job\")\n                            elif need_money == \"no\":\n                                print(\"Keep looking\")\n                        elif commute == \"yes\":\n                            print(\"Take the job!\")\n                        \n        #else:\n        #loop\n        \naccept_role()",
      "execution_count": 68,
      "outputs": [
        {
          "output_type": "stream",
          "text": "Should you take the job offer?\nDoes the work interest you? (Yes or No) Yes\nWill the role enhance my resume? (Yes or No) Yes\nWill the role use or grow my skills? (Yes or No) yes\nis the financial package attractive? (Yes or No) yes\nDo you like the people? (Yes or No) yes\nIs the commute manageable? (Yes or No) yes\nTake the job!\n",
          "name": "stdout"
        }
      ]
    }
  ],
  "metadata": {
    "kernelspec": {
      "name": "python36",
      "display_name": "Python 3.6",
      "language": "python"
    },
    "language_info": {
      "mimetype": "text/x-python",
      "nbconvert_exporter": "python",
      "name": "python",
      "pygments_lexer": "ipython3",
      "version": "3.6.6",
      "file_extension": ".py",
      "codemirror_mode": {
        "version": 3,
        "name": "ipython"
      }
    }
  },
  "nbformat": 4,
  "nbformat_minor": 2
}